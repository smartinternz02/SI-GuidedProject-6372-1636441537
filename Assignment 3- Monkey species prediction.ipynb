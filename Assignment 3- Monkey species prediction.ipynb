{
 "cells": [
  {
   "cell_type": "code",
   "execution_count": 42,
   "id": "ee3ba75b",
   "metadata": {},
   "outputs": [],
   "source": [
    "from tensorflow.keras.models import Sequential\n",
    "from tensorflow.keras.layers import Dense\n",
    "from tensorflow.keras.layers import Convolution2D\n",
    "from tensorflow.keras.layers import MaxPooling2D\n",
    "from tensorflow.keras.layers import Flatten"
   ]
  },
  {
   "cell_type": "code",
   "execution_count": 43,
   "id": "1813bbe3",
   "metadata": {},
   "outputs": [],
   "source": [
    "from keras.preprocessing.image import ImageDataGenerator\n",
    "train_datagen = ImageDataGenerator(rescale = 1./255,shear_range=0.2,zoom_range=0.2,horizontal_flip=True)\n",
    "test_datagen = ImageDataGenerator(rescale=1./255)"
   ]
  },
  {
   "cell_type": "code",
   "execution_count": 44,
   "id": "26323833",
   "metadata": {},
   "outputs": [
    {
     "name": "stdout",
     "output_type": "stream",
     "text": [
      "Found 1098 images belonging to 10 classes.\n",
      "Found 272 images belonging to 10 classes.\n"
     ]
    }
   ],
   "source": [
    "x_train = train_datagen.flow_from_directory(r\"C:\\Users\\HP\\Downloads\\mokey_train\\training\",target_size=(64,64),batch_size=32,class_mode=\"categorical\")\n",
    "x_test = test_datagen.flow_from_directory(r\"C:\\Users\\HP\\Downloads\\monkey_test\\validation\",target_size=(64,64),batch_size=32,class_mode=\"categorical\")"
   ]
  },
  {
   "cell_type": "code",
   "execution_count": 45,
   "id": "cbe11a24",
   "metadata": {},
   "outputs": [
    {
     "name": "stdout",
     "output_type": "stream",
     "text": [
      "{'n0': 0, 'n1': 1, 'n2': 2, 'n3': 3, 'n4': 4, 'n5': 5, 'n6': 6, 'n7': 7, 'n8': 8, 'n9': 9}\n"
     ]
    }
   ],
   "source": [
    "print(x_train.class_indices)"
   ]
  },
  {
   "cell_type": "raw",
   "id": "c3c73d6f",
   "metadata": {},
   "source": [
    "encoding of species\n",
    "n0    mantled_howler             \n",
    "n1    patas_monkey               \n",
    "n2    bald_uakari\n",
    "n3    japanese_macaque             \n",
    "n4    pygmy_marmoset               \n",
    "n5    white_headed_capuchin        \n",
    "n6    silvery_marmoset              \n",
    "n7    common_squirrel_monkey       \n",
    "n8    black_headed_night_monkey     \n",
    "n9    nilgiri_langur              "
   ]
  },
  {
   "cell_type": "markdown",
   "id": "45c778eb",
   "metadata": {},
   "source": [
    "# Model building"
   ]
  },
  {
   "cell_type": "code",
   "execution_count": 46,
   "id": "290e0289",
   "metadata": {},
   "outputs": [],
   "source": [
    "model = Sequential()\n",
    "model.add(Convolution2D(32,(3,3),input_shape=(64,64,3),activation=\"relu\"))\n",
    "model.add(MaxPooling2D(pool_size=(2,2)))\n",
    "model.add(Flatten())"
   ]
  },
  {
   "cell_type": "code",
   "execution_count": 47,
   "id": "8263709e",
   "metadata": {},
   "outputs": [],
   "source": [
    "model.add(Dense(units=128,activation=\"relu\"))"
   ]
  },
  {
   "cell_type": "code",
   "execution_count": 48,
   "id": "7d8baaf7",
   "metadata": {},
   "outputs": [],
   "source": [
    "model.add(Dense(units=10,activation=\"softmax\"))"
   ]
  },
  {
   "cell_type": "code",
   "execution_count": 49,
   "id": "d390997e",
   "metadata": {},
   "outputs": [],
   "source": [
    "model.compile(loss=\"categorical_crossentropy\",optimizer=\"adam\",metrics=[\"accuracy\"])"
   ]
  },
  {
   "cell_type": "code",
   "execution_count": 50,
   "id": "4abb18a4",
   "metadata": {},
   "outputs": [
    {
     "name": "stdout",
     "output_type": "stream",
     "text": [
      "Epoch 1/20\n",
      "34/34 [==============================] - 39s 1s/step - loss: 2.3414 - accuracy: 0.2242 - val_loss: 1.7582 - val_accuracy: 0.3787\n",
      "Epoch 2/20\n",
      "34/34 [==============================] - 38s 1s/step - loss: 1.6125 - accuracy: 0.4475 - val_loss: 1.5491 - val_accuracy: 0.4926\n",
      "Epoch 3/20\n",
      "34/34 [==============================] - 37s 1s/step - loss: 1.4010 - accuracy: 0.5281 - val_loss: 1.5766 - val_accuracy: 0.4632\n",
      "Epoch 4/20\n",
      "34/34 [==============================] - 38s 1s/step - loss: 1.2112 - accuracy: 0.5947 - val_loss: 1.4694 - val_accuracy: 0.4963\n",
      "Epoch 5/20\n",
      "34/34 [==============================] - 38s 1s/step - loss: 1.1231 - accuracy: 0.6220 - val_loss: 1.2715 - val_accuracy: 0.5662\n",
      "Epoch 6/20\n",
      "34/34 [==============================] - 38s 1s/step - loss: 1.0282 - accuracy: 0.6632 - val_loss: 1.4572 - val_accuracy: 0.4963\n",
      "Epoch 7/20\n",
      "34/34 [==============================] - 38s 1s/step - loss: 0.9953 - accuracy: 0.6670 - val_loss: 1.4103 - val_accuracy: 0.5441\n",
      "Epoch 8/20\n",
      "34/34 [==============================] - 38s 1s/step - loss: 0.9483 - accuracy: 0.6904 - val_loss: 1.2292 - val_accuracy: 0.5846\n",
      "Epoch 9/20\n",
      "34/34 [==============================] - 38s 1s/step - loss: 0.9304 - accuracy: 0.6886 - val_loss: 1.1698 - val_accuracy: 0.6066\n",
      "Epoch 10/20\n",
      "34/34 [==============================] - 38s 1s/step - loss: 0.7924 - accuracy: 0.7439 - val_loss: 1.1981 - val_accuracy: 0.6066\n",
      "Epoch 11/20\n",
      "34/34 [==============================] - 38s 1s/step - loss: 0.7073 - accuracy: 0.7711 - val_loss: 1.3109 - val_accuracy: 0.5735\n",
      "Epoch 12/20\n",
      "34/34 [==============================] - 38s 1s/step - loss: 0.6932 - accuracy: 0.7805 - val_loss: 1.1971 - val_accuracy: 0.6360\n",
      "Epoch 13/20\n",
      "34/34 [==============================] - 38s 1s/step - loss: 0.6944 - accuracy: 0.7786 - val_loss: 1.2626 - val_accuracy: 0.6250\n",
      "Epoch 14/20\n",
      "34/34 [==============================] - 38s 1s/step - loss: 0.6744 - accuracy: 0.7739 - val_loss: 1.1401 - val_accuracy: 0.6544\n",
      "Epoch 15/20\n",
      "34/34 [==============================] - 38s 1s/step - loss: 0.6298 - accuracy: 0.7983 - val_loss: 1.2109 - val_accuracy: 0.6103\n",
      "Epoch 16/20\n",
      "34/34 [==============================] - 38s 1s/step - loss: 0.5839 - accuracy: 0.8227 - val_loss: 1.1732 - val_accuracy: 0.6507\n",
      "Epoch 17/20\n",
      "34/34 [==============================] - 38s 1s/step - loss: 0.5243 - accuracy: 0.8377 - val_loss: 1.1330 - val_accuracy: 0.6287\n",
      "Epoch 18/20\n",
      "34/34 [==============================] - 36s 1s/step - loss: 0.4702 - accuracy: 0.8537 - val_loss: 1.2226 - val_accuracy: 0.6618\n",
      "Epoch 19/20\n",
      "34/34 [==============================] - 38s 1s/step - loss: 0.4474 - accuracy: 0.8612 - val_loss: 1.2986 - val_accuracy: 0.6140\n",
      "Epoch 20/20\n",
      "34/34 [==============================] - 38s 1s/step - loss: 0.4729 - accuracy: 0.8520 - val_loss: 1.2342 - val_accuracy: 0.6434\n"
     ]
    },
    {
     "data": {
      "text/plain": [
       "<tensorflow.python.keras.callbacks.History at 0x19485022820>"
      ]
     },
     "execution_count": 50,
     "metadata": {},
     "output_type": "execute_result"
    }
   ],
   "source": [
    "model.fit(x_train,steps_per_epoch=34,epochs=20,validation_data=x_test,validation_steps=9)"
   ]
  },
  {
   "cell_type": "code",
   "execution_count": null,
   "id": "0f5dde45",
   "metadata": {},
   "outputs": [],
   "source": [
    "#85% accuracy achived"
   ]
  },
  {
   "cell_type": "markdown",
   "id": "6a5b6634",
   "metadata": {},
   "source": [
    "# Model Saving"
   ]
  },
  {
   "cell_type": "code",
   "execution_count": 51,
   "id": "3d8ffce4",
   "metadata": {},
   "outputs": [],
   "source": [
    "model.save(\"monkeys.h5\")"
   ]
  },
  {
   "cell_type": "markdown",
   "id": "c48ccd01",
   "metadata": {},
   "source": [
    "# Testing"
   ]
  },
  {
   "cell_type": "code",
   "execution_count": 52,
   "id": "13b191bc",
   "metadata": {},
   "outputs": [],
   "source": [
    "from tensorflow.keras.models import load_model\n",
    "from  keras.preprocessing import image\n",
    "import numpy as np"
   ]
  },
  {
   "cell_type": "code",
   "execution_count": 53,
   "id": "afe28e5e",
   "metadata": {},
   "outputs": [],
   "source": [
    "model = load_model(\"monkeys.h5\")"
   ]
  },
  {
   "cell_type": "code",
   "execution_count": 54,
   "id": "ec2a4090",
   "metadata": {},
   "outputs": [
    {
     "data": {
      "image/png": "[encoded data removed]",
      "text/plain": [
       "<PIL.Image.Image image mode=RGB size=64x64 at 0x1948225AAF0>"
      ]
     },
     "execution_count": 54,
     "metadata": {},
     "output_type": "execute_result"
    }
   ],
   "source": [
    "#loading an image og nilgiri langur to see if our model can predict it or not\n",
    "img = image.load_img(\"nilgiri_langur.jfif\",target_size=(64,64))\n",
    "img"
   ]
  },
  {
   "cell_type": "code",
   "execution_count": 55,
   "id": "7f18feed",
   "metadata": {},
   "outputs": [
    {
     "data": {
      "text/plain": [
       "(64, 64, 3)"
      ]
     },
     "execution_count": 55,
     "metadata": {},
     "output_type": "execute_result"
    }
   ],
   "source": [
    "x = image.img_to_array(img)\n",
    "x.shape\n"
   ]
  },
  {
   "cell_type": "code",
   "execution_count": 56,
   "id": "4178d8d5",
   "metadata": {},
   "outputs": [
    {
     "data": {
      "text/plain": [
       "(1, 64, 64, 3)"
      ]
     },
     "execution_count": 56,
     "metadata": {},
     "output_type": "execute_result"
    }
   ],
   "source": [
    "x = np.expand_dims(x,axis=0)\n",
    "x.shape"
   ]
  },
  {
   "cell_type": "code",
   "execution_count": 57,
   "id": "20c44ee1",
   "metadata": {},
   "outputs": [
    {
     "data": {
      "text/plain": [
       "array([[0., 0., 0., 0., 0., 0., 0., 0., 0., 1.]], dtype=float32)"
      ]
     },
     "execution_count": 57,
     "metadata": {},
     "output_type": "execute_result"
    }
   ],
   "source": [
    "y = model.predict(x)\n",
    "y"
   ]
  },
  {
   "cell_type": "code",
   "execution_count": 58,
   "id": "c5078e6a",
   "metadata": {},
   "outputs": [
    {
     "data": {
      "text/plain": [
       "array([9], dtype=int64)"
      ]
     },
     "execution_count": 58,
     "metadata": {},
     "output_type": "execute_result"
    }
   ],
   "source": [
    "pred = np.argmax(y,axis=1)\n",
    "pred"
   ]
  },
  {
   "cell_type": "code",
   "execution_count": 59,
   "id": "acd750d2",
   "metadata": {},
   "outputs": [
    {
     "data": {
      "text/plain": [
       "{'n0': 0,\n",
       " 'n1': 1,\n",
       " 'n2': 2,\n",
       " 'n3': 3,\n",
       " 'n4': 4,\n",
       " 'n5': 5,\n",
       " 'n6': 6,\n",
       " 'n7': 7,\n",
       " 'n8': 8,\n",
       " 'n9': 9}"
      ]
     },
     "execution_count": 59,
     "metadata": {},
     "output_type": "execute_result"
    }
   ],
   "source": [
    "x_train.class_indices"
   ]
  },
  {
   "cell_type": "code",
   "execution_count": 60,
   "id": "a8321736",
   "metadata": {},
   "outputs": [
    {
     "data": {
      "text/plain": [
       "'nilgiri_langur'"
      ]
     },
     "execution_count": 60,
     "metadata": {},
     "output_type": "execute_result"
    }
   ],
   "source": [
    "index = [\"mantled_howler\", \"patas_monkey\", \"bald_uakari\", \"japanese_macaque\",  \"pygmy_marmoset\", \"white_headed_capuchin\",\"silvery_marmoset\", \"common_squirrel_monkey\", \"black_headed_night_monkey\" ,\"nilgiri_langur\" ]\n",
    "index[pred[0]]"
   ]
  },
  {
   "cell_type": "markdown",
   "id": "322515cf",
   "metadata": {},
   "source": [
    "### Hence our model predicted the right class"
   ]
  }
 ],
 "metadata": {
  "kernelspec": {
   "display_name": "Python 3 (ipykernel)",
   "language": "python",
   "name": "python3"
  },
  "language_info": {
   "codemirror_mode": {
    "name": "ipython",
    "version": 3
   },
   "file_extension": ".py",
   "mimetype": "text/x-python",
   "name": "python",
   "nbconvert_exporter": "python",
   "pygments_lexer": "ipython3",
   "version": "3.9.5"
  }
 },
 "nbformat": 4,
 "nbformat_minor": 5
}
