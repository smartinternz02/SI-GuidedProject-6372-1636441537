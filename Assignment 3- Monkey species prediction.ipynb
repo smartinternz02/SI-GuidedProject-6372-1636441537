{
 "cells": [
  {
   "cell_type": "code",
   "execution_count": 1,
   "id": "8bc4c875",
   "metadata": {},
   "outputs": [],
   "source": [
    "from tensorflow.keras.models import Sequential\n",
    "from tensorflow.keras.layers import Dense\n",
    "from tensorflow.keras.layers import Convolution2D\n",
    "from tensorflow.keras.layers import MaxPooling2D\n",
    "from tensorflow.keras.layers import Flatten"
   ]
  },
  {
   "cell_type": "code",
   "execution_count": 2,
   "id": "0852e9e9",
   "metadata": {},
   "outputs": [],
   "source": [
    "from keras.preprocessing.image import ImageDataGenerator\n",
    "train_datagen = ImageDataGenerator(rescale = 1./255,shear_range=0.2,zoom_range=0.2,horizontal_flip=True)\n",
    "test_datagen = ImageDataGenerator(rescale=1./255)"
   ]
  },
  {
   "cell_type": "code",
   "execution_count": 4,
   "id": "09959303",
   "metadata": {},
   "outputs": [
    {
     "name": "stdout",
     "output_type": "stream",
     "text": [
      "Found 1098 images belonging to 10 classes.\n",
      "Found 272 images belonging to 10 classes.\n"
     ]
    }
   ],
   "source": [
    "x_train = train_datagen.flow_from_directory(r\"C:\\Users\\HP\\Downloads\\mokey_train\\training\",target_size=(64,64),batch_size=32,class_mode=\"categorical\")\n",
    "x_test = test_datagen.flow_from_directory(r\"C:\\Users\\HP\\Downloads\\monkey_test\\validation\",target_size=(64,64),batch_size=32,class_mode=\"categorical\")"
   ]
  },
  {
   "cell_type": "code",
   "execution_count": 7,
   "id": "1f153d51",
   "metadata": {},
   "outputs": [
    {
     "name": "stdout",
     "output_type": "stream",
     "text": [
      "{'n0': 0, 'n1': 1, 'n2': 2, 'n3': 3, 'n4': 4, 'n5': 5, 'n6': 6, 'n7': 7, 'n8': 8, 'n9': 9}\n"
     ]
    }
   ],
   "source": [
    "print(x_train.class_indices)"
   ]
  },
  {
   "cell_type": "raw",
   "id": "3fb86707",
   "metadata": {},
   "source": [
    "encoding of species\n",
    "n0    mantled_howler             \n",
    "n1    patas_monkey               \n",
    "n2    bald_uakari\n",
    "n3    japanese_macaque             \n",
    "n4    pygmy_marmoset               \n",
    "n5    white_headed_capuchin        \n",
    "n6    silvery_marmoset              \n",
    "n7    common_squirrel_monkey       \n",
    "n8    black_headed_night_monkey     \n",
    "n9    nilgiri_langur              "
   ]
  },
  {
   "cell_type": "markdown",
   "id": "25f3b49f",
   "metadata": {},
   "source": [
    "# Model building"
   ]
  },
  {
   "cell_type": "code",
   "execution_count": 15,
   "id": "68384f76",
   "metadata": {},
   "outputs": [],
   "source": [
    "model = Sequential()\n",
    "model.add(Convolution2D(32,(3,3),input_shape=(64,64,3),activation=\"relu\"))\n",
    "model.add(MaxPooling2D(pool_size=(2,2)))\n",
    "model.add(Flatten())"
   ]
  },
  {
   "cell_type": "code",
   "execution_count": 16,
   "id": "87bbd225",
   "metadata": {},
   "outputs": [],
   "source": [
    "model.add(Dense(units=128,activation=\"relu\"))"
   ]
  },
  {
   "cell_type": "code",
   "execution_count": 17,
   "id": "0b98c7a6",
   "metadata": {},
   "outputs": [],
   "source": [
    "model.add(Dense(units=10,activation=\"softmax\"))"
   ]
  },
  {
   "cell_type": "code",
   "execution_count": 18,
   "id": "83b32b6b",
   "metadata": {},
   "outputs": [],
   "source": [
    "model.compile(loss=\"categorical_crossentropy\",optimizer=\"adam\",metrics=[\"accuracy\"])"
   ]
  },
  {
   "cell_type": "code",
   "execution_count": 20,
   "id": "2806b2ad",
   "metadata": {},
   "outputs": [
    {
     "name": "stdout",
     "output_type": "stream",
     "text": [
      "Epoch 1/20\n",
      "34/34 [==============================] - 41s 1s/step - loss: 0.7082 - accuracy: 0.7749 - val_loss: 1.2940 - val_accuracy: 0.5772\n",
      "Epoch 2/20\n",
      "34/34 [==============================] - 37s 1s/step - loss: 0.6817 - accuracy: 0.7814 - val_loss: 1.1743 - val_accuracy: 0.6287\n",
      "Epoch 3/20\n",
      "34/34 [==============================] - 37s 1s/step - loss: 0.6270 - accuracy: 0.7983 - val_loss: 1.2613 - val_accuracy: 0.5625\n",
      "Epoch 4/20\n",
      "34/34 [==============================] - 38s 1s/step - loss: 0.6099 - accuracy: 0.8143 - val_loss: 1.3324 - val_accuracy: 0.5993\n",
      "Epoch 5/20\n",
      "34/34 [==============================] - 38s 1s/step - loss: 0.5463 - accuracy: 0.8311 - val_loss: 1.2098 - val_accuracy: 0.6471\n",
      "Epoch 6/20\n",
      "34/34 [==============================] - 38s 1s/step - loss: 0.4831 - accuracy: 0.8480 - val_loss: 1.2104 - val_accuracy: 0.6618\n",
      "Epoch 7/20\n",
      "34/34 [==============================] - 39s 1s/step - loss: 0.5117 - accuracy: 0.8471 - val_loss: 1.2521 - val_accuracy: 0.6213\n",
      "Epoch 8/20\n",
      "34/34 [==============================] - 40s 1s/step - loss: 0.4800 - accuracy: 0.8649 - val_loss: 1.2357 - val_accuracy: 0.6360\n",
      "Epoch 9/20\n",
      "34/34 [==============================] - 40s 1s/step - loss: 0.4881 - accuracy: 0.8546 - val_loss: 1.2439 - val_accuracy: 0.6176\n",
      "Epoch 10/20\n",
      "34/34 [==============================] - 41s 1s/step - loss: 0.4623 - accuracy: 0.8565 - val_loss: 1.1912 - val_accuracy: 0.6471\n",
      "Epoch 11/20\n",
      "34/34 [==============================] - 41s 1s/step - loss: 0.4164 - accuracy: 0.8705 - val_loss: 1.1882 - val_accuracy: 0.6434\n",
      "Epoch 12/20\n",
      "34/34 [==============================] - 37s 1s/step - loss: 0.3814 - accuracy: 0.8827 - val_loss: 1.2325 - val_accuracy: 0.6434\n",
      "Epoch 13/20\n",
      "34/34 [==============================] - 39s 1s/step - loss: 0.3994 - accuracy: 0.8743 - val_loss: 1.2130 - val_accuracy: 0.6471\n",
      "Epoch 14/20\n",
      "34/34 [==============================] - 36s 1s/step - loss: 0.3419 - accuracy: 0.9015 - val_loss: 1.2874 - val_accuracy: 0.6140\n",
      "Epoch 15/20\n",
      "34/34 [==============================] - 37s 1s/step - loss: 0.3321 - accuracy: 0.9062 - val_loss: 1.2245 - val_accuracy: 0.6544\n",
      "Epoch 16/20\n",
      "34/34 [==============================] - 41s 1s/step - loss: 0.3158 - accuracy: 0.9146 - val_loss: 1.2136 - val_accuracy: 0.6581\n",
      "Epoch 17/20\n",
      "34/34 [==============================] - 40s 1s/step - loss: 0.2900 - accuracy: 0.9250 - val_loss: 1.2783 - val_accuracy: 0.6581\n",
      "Epoch 18/20\n",
      "34/34 [==============================] - 37s 1s/step - loss: 0.2835 - accuracy: 0.9128 - val_loss: 1.3206 - val_accuracy: 0.6507\n",
      "Epoch 19/20\n",
      "34/34 [==============================] - 40s 1s/step - loss: 0.2784 - accuracy: 0.9099 - val_loss: 1.2437 - val_accuracy: 0.6728\n",
      "Epoch 20/20\n",
      "34/34 [==============================] - 41s 1s/step - loss: 0.2673 - accuracy: 0.9203 - val_loss: 1.3502 - val_accuracy: 0.6581\n"
     ]
    },
    {
     "data": {
      "text/plain": [
       "<tensorflow.python.keras.callbacks.History at 0x1948225ae80>"
      ]
     },
     "execution_count": 20,
     "metadata": {},
     "output_type": "execute_result"
    }
   ],
   "source": [
    "model.fit(x_train,steps_per_epoch=34,epochs=20,validation_data=x_test,validation_steps=9)"
   ]
  },
  {
   "cell_type": "markdown",
   "id": "22dc9ee5",
   "metadata": {},
   "source": []
  }
 ],
 "metadata": {
  "kernelspec": {
   "display_name": "Python 3 (ipykernel)",
   "language": "python",
   "name": "python3"
  },
  "language_info": {
   "codemirror_mode": {
    "name": "ipython",
    "version": 3
   },
   "file_extension": ".py",
   "mimetype": "text/x-python",
   "name": "python",
   "nbconvert_exporter": "python",
   "pygments_lexer": "ipython3",
   "version": "3.9.5"
  }
 },
 "nbformat": 4,
 "nbformat_minor": 5
}
